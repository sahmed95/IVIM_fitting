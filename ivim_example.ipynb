{
 "cells": [
  {
   "cell_type": "code",
   "execution_count": 1,
   "metadata": {
    "collapsed": false
   },
   "outputs": [],
   "source": [
    "import dipy\n",
    "import fitting_diffusion\n",
    "import ivim\n",
    "import nibabel as nb\n",
    "import matplotlib.pyplot as plt\n",
    "%matplotlib inline"
   ]
  },
  {
   "cell_type": "code",
   "execution_count": 3,
   "metadata": {
    "collapsed": false
   },
   "outputs": [
    {
     "name": "stdout",
     "output_type": "stream",
     "text": [
      "minimization method = None\n",
      "Using one stage fitting\n",
      "Reading the image\n",
      "loading the b-values\n",
      "we have 102 b-values, so on y va!\n",
      "[   15.   310.   310.   330.   615.   635.   595.   615.   640.   595.\n",
      "   945.   900.   945.   900.  1230.  1230.  1275.  1540.  1560.  1515.\n",
      "  1540.  1540.  1580.  1495.  1540.  1560.  1520.  1585.  1495.  1870.\n",
      "  1825.  1870.  1825.  1870.  1825.  1890.  1805.  1890.  1805.  1870.\n",
      "  1825.  2465.  2505.  2420.  2460.  2505.  2420.  2770.  2790.  2750.\n",
      "  2815.  2725.  2815.  2725.  2790.  2745.  2815.  2725.  2810.  2725.\n",
      "  2770.  2835.  3080.  3100.  3055.  3075.  3080.  3140.  3015.  3075.\n",
      "  3100.  3055.  3145.  3015.  3405.  3365.  3405.  3365.  3410.  3365.\n",
      "  3450.  3320.  3450.  3320.  3405.  3360.  3735.  3650.  3735.  3650.\n",
      "  4000.  4045.  3955.  4000.  4000.  4065.  3935.  4000.  4045.  3960.\n",
      "  4065.  3935.]\n",
      "Beginning processing\n",
      "Fitting S0, f, D, and D*\n",
      "0%\n",
      "5%\n",
      "10%\n",
      "15%\n",
      "20%\n",
      "25%\n",
      "30%\n",
      "35%\n",
      "40%\n",
      "45%\n",
      "50%\n",
      "55%\n",
      "60%\n",
      "65%\n",
      "70%\n",
      "75%\n",
      "80%\n",
      "85%\n",
      "90%\n",
      "95%"
     ]
    },
    {
     "name": "stderr",
     "output_type": "stream",
     "text": [
<<<<<<< HEAD
      "/home/shahnawaz/dev/gsoc/IVIM_fitting/fitting_diffusion.py:54: RuntimeWarning: divide by zero encountered in double_scalars\n",
      "  return np.sum(np.linalg.norm(self.IVIM_fun_lsqr(x, b, s))) + self.S0_reg*abs(x[0]-x_other[0])/x_other[0]+self.f_reg*abs(x[1]-x_other[1])/x_other[1]+self.D_reg*abs(x[2]-x_other[2])/x_other[2]+self.Dstar_reg*abs(x[3]-x_other[3])/x_other[3]\n",
=======
      "dipy/dipy/ivim/fitting_diffusion.py:59: RuntimeWarning: divide by zero encountered in double_scalars\n",
      "  return np.sum(np.linalg.norm(self.IVIM_fun_lsqr(x, b, s))) + self.S0_reg * abs(x[0] - x_other[0]) / x_other[0] + self.f_reg * abs(x[1] - x_other[1]) / x_other[1] + self.D_reg * abs(x[2] - x_other[2]) / x_other[2] + self.Dstar_reg * abs(x[3] - x_other[3]) / x_other[3]\n",
>>>>>>> fe9ac35cf440654097fa0227368ce4ce68fd13c6
      "/usr/local/lib/python3.4/dist-packages/scipy/optimize/optimize.py:558: RuntimeWarning: invalid value encountered in double_scalars\n",
      "  grad[k] = (f(*((xk + d,) + args)) - f0) / d[k]\n",
      "/usr/local/lib/python3.4/dist-packages/matplotlib/__init__.py:1350: UserWarning:  This call to matplotlib.use() has no effect\n",
      "because the backend has already been chosen;\n",
      "matplotlib.use() must be called *before* pylab, matplotlib.pyplot,\n",
      "or matplotlib.backends is imported for the first time.\n",
      "\n",
      "  warnings.warn(_use_error_msg)\n"
     ]
    },
    {
     "name": "stdout",
     "output_type": "stream",
     "text": [
      "\n",
      "PLOTTING <numpy.lib.index_tricks.ndindex object at 0xac08eb2c>\n",
      "(0, 0, 0)\n"
     ]
    },
    {
     "ename": "UnboundLocalError",
     "evalue": "local variable 'S0_prime' referenced before assignment",
     "output_type": "error",
     "traceback": [
      "\u001b[1;31m---------------------------------------------------------------------------\u001b[0m",
      "\u001b[1;31mUnboundLocalError\u001b[0m                         Traceback (most recent call last)",
      "\u001b[1;32m<ipython-input-3-769a80c65ea7>\u001b[0m in \u001b[0;36m<module>\u001b[1;34m()\u001b[0m\n\u001b[0;32m      4\u001b[0m \u001b[1;33m\u001b[0m\u001b[0m\n\u001b[0;32m      5\u001b[0m ivim.fit(img_file_name = inputfile, bvalue_file_name= bval, output_fit_name= outputfile, two_stage_fit= False,\n\u001b[1;32m----> 6\u001b[1;33m          one_stage_fit = True)\n\u001b[0m",
      "\u001b[1;32m/home/shahnawaz/dev/gsoc/IVIM_fitting/ivim.py\u001b[0m in \u001b[0;36mfit\u001b[1;34m(img_file_name, bvalue_file_name, mask_file_name, output_fit_name, output_niterations_name, output_success_name, output_fitness_name, output_residual_name, output_curve_name, one_stage_fit, two_stage_fit, min_method, text_file_name, plot_folder_name, curve_name_file, use_jacobian)\u001b[0m\n\u001b[0;32m    270\u001b[0m         D_line = dc.IVIM_fun(bvals, S0_prime[item], 0., D[\n\u001b[0;32m    271\u001b[0m                              item], 0.) * img0[item]\n\u001b[1;32m--> 272\u001b[1;33m         Dstar_line = dc.IVIM_fun(\n\u001b[0m\u001b[0;32m    273\u001b[0m             bvals_le_200, S0[item], 1., 0., Dstar_prime[item]) * img0[item]\n\u001b[0;32m    274\u001b[0m \u001b[1;33m\u001b[0m\u001b[0m\n",
      "\u001b[1;31mUnboundLocalError\u001b[0m: local variable 'S0_prime' referenced before assignment"
     ]
    }
   ],
   "source": [
    "inputfile = '/usr/local/lib/python3.4/dist-packages/dipy/data/files/small_101D.nii.gz'\n",
    "bval = '/usr/local/lib/python3.4/dist-packages/dipy/data/files/small_101D.bval'\n",
    "outputfile = 'output.nii.gz'\n",
    "\n",
    "ivim.fit(img_file_name = inputfile, bvalue_file_name= bval, output_fit_name= outputfile)"
   ]
  },
  {
   "cell_type": "code",
   "execution_count": null,
   "metadata": {
    "collapsed": true
   },
   "outputs": [],
   "source": []
  }
 ],
 "metadata": {
  "kernelspec": {
   "display_name": "Python 3",
   "language": "python",
   "name": "python3"
  },
  "language_info": {
   "codemirror_mode": {
    "name": "ipython",
    "version": 3
   },
   "file_extension": ".py",
   "mimetype": "text/x-python",
   "name": "python",
   "nbconvert_exporter": "python",
   "pygments_lexer": "ipython3",
   "version": "3.4.3"
  }
 },
 "nbformat": 4,
 "nbformat_minor": 0
}
